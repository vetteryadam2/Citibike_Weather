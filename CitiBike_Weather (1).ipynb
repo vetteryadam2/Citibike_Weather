{
  "nbformat": 4,
  "nbformat_minor": 0,
  "metadata": {
    "colab": {
      "name": "CitiBike_Weather.ipynb",
      "version": "0.3.2",
      "provenance": [],
      "collapsed_sections": []
    },
    "kernelspec": {
      "name": "python3",
      "display_name": "Python 3"
    }
  },
  "cells": [
    {
      "cell_type": "markdown",
      "metadata": {
        "id": "BzA7G5XMBo8E",
        "colab_type": "text"
      },
      "source": [
        "The goal of this analysis is to better understand the demographic makeup of Citibike riders, and to consider how basic demographic traits influnce Citibike usage behavior. I will focus my analysis on the age and gender of riders, and consider ride volume as well as average trip duration. From there, I will introduce basic weather data to consider how weather trends impact these metrics across demographic segments.  "
      ]
    },
    {
      "cell_type": "code",
      "metadata": {
        "id": "4_pBZQ4fiP7t",
        "colab_type": "code",
        "outputId": "ffbc9269-4264-4a94-8efc-a39c8827fd2c",
        "colab": {
          "base_uri": "https://localhost:8080/",
          "height": 141
        }
      },
      "source": [
        "import pandas as pd\n",
        "import numpy as np\n",
        "import matplotlib.pyplot as plt\n",
        "\n",
        "\n",
        "\n",
        "rides = pd.read_csv('output3.csv')\n",
        "weather = pd.read_csv('Weather.csv')\n",
        "rides = rides[['Date', 'Duration', 'Birth Year', 'Gender']]\n",
        "weather = weather.rename(columns={\"DATE\": \"Date\"})\n",
        "weather = weather.drop(columns = ['Station'])\n",
        "weather.head(3)\n"
      ],
      "execution_count": 133,
      "outputs": [
        {
          "output_type": "execute_result",
          "data": {
            "text/html": [
              "<div>\n",
              "<style scoped>\n",
              "    .dataframe tbody tr th:only-of-type {\n",
              "        vertical-align: middle;\n",
              "    }\n",
              "\n",
              "    .dataframe tbody tr th {\n",
              "        vertical-align: top;\n",
              "    }\n",
              "\n",
              "    .dataframe thead th {\n",
              "        text-align: right;\n",
              "    }\n",
              "</style>\n",
              "<table border=\"1\" class=\"dataframe\">\n",
              "  <thead>\n",
              "    <tr style=\"text-align: right;\">\n",
              "      <th></th>\n",
              "      <th>Date</th>\n",
              "      <th>Average Wind Speed</th>\n",
              "      <th>Precipitation</th>\n",
              "      <th>Snowfall</th>\n",
              "      <th>Max Temperature</th>\n",
              "    </tr>\n",
              "  </thead>\n",
              "  <tbody>\n",
              "    <tr>\n",
              "      <th>0</th>\n",
              "      <td>1/1/18</td>\n",
              "      <td>17.00</td>\n",
              "      <td>0.0</td>\n",
              "      <td>0.0</td>\n",
              "      <td>19</td>\n",
              "    </tr>\n",
              "    <tr>\n",
              "      <th>1</th>\n",
              "      <td>1/2/18</td>\n",
              "      <td>13.87</td>\n",
              "      <td>0.0</td>\n",
              "      <td>0.0</td>\n",
              "      <td>26</td>\n",
              "    </tr>\n",
              "    <tr>\n",
              "      <th>2</th>\n",
              "      <td>1/3/18</td>\n",
              "      <td>6.93</td>\n",
              "      <td>0.0</td>\n",
              "      <td>0.0</td>\n",
              "      <td>30</td>\n",
              "    </tr>\n",
              "  </tbody>\n",
              "</table>\n",
              "</div>"
            ],
            "text/plain": [
              "     Date  Average Wind Speed  Precipitation  Snowfall  Max Temperature\n",
              "0  1/1/18               17.00            0.0       0.0               19\n",
              "1  1/2/18               13.87            0.0       0.0               26\n",
              "2  1/3/18                6.93            0.0       0.0               30"
            ]
          },
          "metadata": {
            "tags": []
          },
          "execution_count": 133
        }
      ]
    },
    {
      "cell_type": "code",
      "metadata": {
        "id": "Vp4ekkmMJDCW",
        "colab_type": "code",
        "outputId": "3514d171-ad5e-4ed8-96e4-708f108ce6ba",
        "colab": {
          "base_uri": "https://localhost:8080/",
          "height": 141
        }
      },
      "source": [
        "rides.head(3)"
      ],
      "execution_count": 134,
      "outputs": [
        {
          "output_type": "execute_result",
          "data": {
            "text/html": [
              "<div>\n",
              "<style scoped>\n",
              "    .dataframe tbody tr th:only-of-type {\n",
              "        vertical-align: middle;\n",
              "    }\n",
              "\n",
              "    .dataframe tbody tr th {\n",
              "        vertical-align: top;\n",
              "    }\n",
              "\n",
              "    .dataframe thead th {\n",
              "        text-align: right;\n",
              "    }\n",
              "</style>\n",
              "<table border=\"1\" class=\"dataframe\">\n",
              "  <thead>\n",
              "    <tr style=\"text-align: right;\">\n",
              "      <th></th>\n",
              "      <th>Date</th>\n",
              "      <th>Duration</th>\n",
              "      <th>Birth Year</th>\n",
              "      <th>Gender</th>\n",
              "    </tr>\n",
              "  </thead>\n",
              "  <tbody>\n",
              "    <tr>\n",
              "      <th>0</th>\n",
              "      <td>1/2/18</td>\n",
              "      <td>732</td>\n",
              "      <td>1969</td>\n",
              "      <td>1</td>\n",
              "    </tr>\n",
              "    <tr>\n",
              "      <th>1</th>\n",
              "      <td>1/3/18</td>\n",
              "      <td>520</td>\n",
              "      <td>1960</td>\n",
              "      <td>1</td>\n",
              "    </tr>\n",
              "    <tr>\n",
              "      <th>2</th>\n",
              "      <td>1/2/18</td>\n",
              "      <td>324</td>\n",
              "      <td>1947</td>\n",
              "      <td>1</td>\n",
              "    </tr>\n",
              "  </tbody>\n",
              "</table>\n",
              "</div>"
            ],
            "text/plain": [
              "     Date  Duration  Birth Year  Gender\n",
              "0  1/2/18       732        1969       1\n",
              "1  1/3/18       520        1960       1\n",
              "2  1/2/18       324        1947       1"
            ]
          },
          "metadata": {
            "tags": []
          },
          "execution_count": 134
        }
      ]
    },
    {
      "cell_type": "code",
      "metadata": {
        "id": "-2c4TBsm3yiD",
        "colab_type": "code",
        "colab": {
          "base_uri": "https://localhost:8080/",
          "height": 233
        },
        "outputId": "0035bd62-a83b-42ad-ab8e-063fca7fa25f"
      },
      "source": [
        "# adding column so I can define temperature buckets to make analysis more straightforward!\n",
        "\n",
        "#NOTE: This was a total pain! But once I got clued in to listmap, all was well :)\n",
        "\n",
        "def temp(Max):\n",
        "\n",
        "  if Max < 34:\n",
        "    return '0_Freezing'\n",
        "  elif Max < 50:\n",
        "      return '1_Cold'\n",
        "  elif Max < 65:\n",
        "     return '2_Mild'\n",
        "  elif Max < 85:\n",
        "     return '3_Warm'\n",
        "  else: \n",
        "     return '4_Hot'\n",
        "\n",
        "    \n",
        "weather['Temp Bucket'] = list(map(temp, weather['Max Temperature'])) \n",
        "\n",
        "weather[['Temp Bucket','Max Temperature']].groupby('Temp Bucket').count()"
      ],
      "execution_count": 135,
      "outputs": [
        {
          "output_type": "execute_result",
          "data": {
            "text/html": [
              "<div>\n",
              "<style scoped>\n",
              "    .dataframe tbody tr th:only-of-type {\n",
              "        vertical-align: middle;\n",
              "    }\n",
              "\n",
              "    .dataframe tbody tr th {\n",
              "        vertical-align: top;\n",
              "    }\n",
              "\n",
              "    .dataframe thead th {\n",
              "        text-align: right;\n",
              "    }\n",
              "</style>\n",
              "<table border=\"1\" class=\"dataframe\">\n",
              "  <thead>\n",
              "    <tr style=\"text-align: right;\">\n",
              "      <th></th>\n",
              "      <th>Max Temperature</th>\n",
              "    </tr>\n",
              "    <tr>\n",
              "      <th>Temp Bucket</th>\n",
              "      <th></th>\n",
              "    </tr>\n",
              "  </thead>\n",
              "  <tbody>\n",
              "    <tr>\n",
              "      <th>0_Freezing</th>\n",
              "      <td>14</td>\n",
              "    </tr>\n",
              "    <tr>\n",
              "      <th>1_Cold</th>\n",
              "      <td>94</td>\n",
              "    </tr>\n",
              "    <tr>\n",
              "      <th>2_Mild</th>\n",
              "      <td>79</td>\n",
              "    </tr>\n",
              "    <tr>\n",
              "      <th>3_Warm</th>\n",
              "      <td>113</td>\n",
              "    </tr>\n",
              "    <tr>\n",
              "      <th>4_Hot</th>\n",
              "      <td>65</td>\n",
              "    </tr>\n",
              "  </tbody>\n",
              "</table>\n",
              "</div>"
            ],
            "text/plain": [
              "             Max Temperature\n",
              "Temp Bucket                 \n",
              "0_Freezing                14\n",
              "1_Cold                    94\n",
              "2_Mild                    79\n",
              "3_Warm                   113\n",
              "4_Hot                     65"
            ]
          },
          "metadata": {
            "tags": []
          },
          "execution_count": 135
        }
      ]
    },
    {
      "cell_type": "code",
      "metadata": {
        "id": "co5XnRBA4Aoe",
        "colab_type": "code",
        "colab": {
          "base_uri": "https://localhost:8080/",
          "height": 233
        },
        "outputId": "02155179-507a-4b59-bd60-446a14c0fb0d"
      },
      "source": [
        "#Now that I know how to do this, adding yet another summary column of type str so I can try and glean some real insights.\n",
        "\n",
        "def precip(inches):\n",
        "\n",
        "  if inches == 0:\n",
        "    return '0_Dry'\n",
        "  elif inches < .5:\n",
        "      return '1_Drizzle'\n",
        "  elif inches < 1:\n",
        "     return '2_Rain'\n",
        "  elif inches < 2:\n",
        "     return '3_Pouring'\n",
        "  else: \n",
        "     return '4_Monsoon'\n",
        "\n",
        "    \n",
        "weather['Wetness'] = list(map(precip, weather['Precipitation'])) \n",
        "\n",
        "weather[['Wetness','Precipitation']].groupby('Wetness').count()"
      ],
      "execution_count": 136,
      "outputs": [
        {
          "output_type": "execute_result",
          "data": {
            "text/html": [
              "<div>\n",
              "<style scoped>\n",
              "    .dataframe tbody tr th:only-of-type {\n",
              "        vertical-align: middle;\n",
              "    }\n",
              "\n",
              "    .dataframe tbody tr th {\n",
              "        vertical-align: top;\n",
              "    }\n",
              "\n",
              "    .dataframe thead th {\n",
              "        text-align: right;\n",
              "    }\n",
              "</style>\n",
              "<table border=\"1\" class=\"dataframe\">\n",
              "  <thead>\n",
              "    <tr style=\"text-align: right;\">\n",
              "      <th></th>\n",
              "      <th>Precipitation</th>\n",
              "    </tr>\n",
              "    <tr>\n",
              "      <th>Wetness</th>\n",
              "      <th></th>\n",
              "    </tr>\n",
              "  </thead>\n",
              "  <tbody>\n",
              "    <tr>\n",
              "      <th>0_Dry</th>\n",
              "      <td>215</td>\n",
              "    </tr>\n",
              "    <tr>\n",
              "      <th>1_Drizzle</th>\n",
              "      <td>101</td>\n",
              "    </tr>\n",
              "    <tr>\n",
              "      <th>2_Rain</th>\n",
              "      <td>32</td>\n",
              "    </tr>\n",
              "    <tr>\n",
              "      <th>3_Pouring</th>\n",
              "      <td>16</td>\n",
              "    </tr>\n",
              "    <tr>\n",
              "      <th>4_Monsoon</th>\n",
              "      <td>1</td>\n",
              "    </tr>\n",
              "  </tbody>\n",
              "</table>\n",
              "</div>"
            ],
            "text/plain": [
              "           Precipitation\n",
              "Wetness                 \n",
              "0_Dry                215\n",
              "1_Drizzle            101\n",
              "2_Rain                32\n",
              "3_Pouring             16\n",
              "4_Monsoon              1"
            ]
          },
          "metadata": {
            "tags": []
          },
          "execution_count": 136
        }
      ]
    },
    {
      "cell_type": "code",
      "metadata": {
        "id": "XUyCVelyJjSZ",
        "colab_type": "code",
        "outputId": "efebb6fa-e89c-4e4f-b424-2cd8d3c05ef6",
        "colab": {
          "base_uri": "https://localhost:8080/",
          "height": 225
        }
      },
      "source": [
        "ride_weather = rides.join(weather.set_index('Date'), on='Date')\n",
        "\n",
        "# adding column so I can define my age buckets by decade of birth year!\n",
        "ride_weather['Decade'] = ride_weather['Birth Year'].apply(lambda x: int(x / 10) * 10) \n",
        "\n",
        "ride_weather['Gender'] = ride_weather['Gender'].astype(str)\n",
        "\n",
        "ride_weather.dtypes"
      ],
      "execution_count": 137,
      "outputs": [
        {
          "output_type": "execute_result",
          "data": {
            "text/plain": [
              "Date                   object\n",
              "Duration                int64\n",
              "Birth Year              int64\n",
              "Gender                 object\n",
              "Average Wind Speed    float64\n",
              "Precipitation         float64\n",
              "Snowfall              float64\n",
              "Max Temperature         int64\n",
              "Temp Bucket            object\n",
              "Wetness                object\n",
              "Decade                  int64\n",
              "dtype: object"
            ]
          },
          "metadata": {
            "tags": []
          },
          "execution_count": 137
        }
      ]
    },
    {
      "cell_type": "code",
      "metadata": {
        "id": "5DNqBBTmFmkp",
        "colab_type": "code",
        "outputId": "322752e9-e61b-4ca6-db20-8ee4c10a029d",
        "colab": {
          "base_uri": "https://localhost:8080/",
          "height": 662
        }
      },
      "source": [
        "#Section 0 - Some initial data cleaning & basic analysis\n",
        "\n",
        "#Let's de-codify the gender data so we can be sure they are clear, and then set them as strings\n",
        "\n",
        "ride_weather['Gender'] = np.where(ride_weather['Gender'] == '1', 'male', ride_weather['Gender'])\n",
        "ride_weather['Gender'] = np.where(ride_weather['Gender'] == '2', 'female', ride_weather['Gender'])\n",
        "\n",
        "\n",
        "genderIndex = ride_weather[ ride_weather['Gender'] == '0' ].index\n",
        "ride_weather = ride_weather.drop(genderIndex, axis=0)\n",
        "\n",
        "ride_weather.tail(20)"
      ],
      "execution_count": 138,
      "outputs": [
        {
          "output_type": "execute_result",
          "data": {
            "text/html": [
              "<div>\n",
              "<style scoped>\n",
              "    .dataframe tbody tr th:only-of-type {\n",
              "        vertical-align: middle;\n",
              "    }\n",
              "\n",
              "    .dataframe tbody tr th {\n",
              "        vertical-align: top;\n",
              "    }\n",
              "\n",
              "    .dataframe thead th {\n",
              "        text-align: right;\n",
              "    }\n",
              "</style>\n",
              "<table border=\"1\" class=\"dataframe\">\n",
              "  <thead>\n",
              "    <tr style=\"text-align: right;\">\n",
              "      <th></th>\n",
              "      <th>Date</th>\n",
              "      <th>Duration</th>\n",
              "      <th>Birth Year</th>\n",
              "      <th>Gender</th>\n",
              "      <th>Average Wind Speed</th>\n",
              "      <th>Precipitation</th>\n",
              "      <th>Snowfall</th>\n",
              "      <th>Max Temperature</th>\n",
              "      <th>Temp Bucket</th>\n",
              "      <th>Wetness</th>\n",
              "      <th>Decade</th>\n",
              "    </tr>\n",
              "  </thead>\n",
              "  <tbody>\n",
              "    <tr>\n",
              "      <th>1048551</th>\n",
              "      <td>8/16/18</td>\n",
              "      <td>1393</td>\n",
              "      <td>1982</td>\n",
              "      <td>female</td>\n",
              "      <td>8.28</td>\n",
              "      <td>0.0</td>\n",
              "      <td>0.0</td>\n",
              "      <td>93</td>\n",
              "      <td>4_Hot</td>\n",
              "      <td>0_Dry</td>\n",
              "      <td>1980</td>\n",
              "    </tr>\n",
              "    <tr>\n",
              "      <th>1048552</th>\n",
              "      <td>8/16/18</td>\n",
              "      <td>285</td>\n",
              "      <td>1995</td>\n",
              "      <td>female</td>\n",
              "      <td>8.28</td>\n",
              "      <td>0.0</td>\n",
              "      <td>0.0</td>\n",
              "      <td>93</td>\n",
              "      <td>4_Hot</td>\n",
              "      <td>0_Dry</td>\n",
              "      <td>1990</td>\n",
              "    </tr>\n",
              "    <tr>\n",
              "      <th>1048555</th>\n",
              "      <td>8/16/18</td>\n",
              "      <td>560</td>\n",
              "      <td>1981</td>\n",
              "      <td>female</td>\n",
              "      <td>8.28</td>\n",
              "      <td>0.0</td>\n",
              "      <td>0.0</td>\n",
              "      <td>93</td>\n",
              "      <td>4_Hot</td>\n",
              "      <td>0_Dry</td>\n",
              "      <td>1980</td>\n",
              "    </tr>\n",
              "    <tr>\n",
              "      <th>1048556</th>\n",
              "      <td>8/16/18</td>\n",
              "      <td>238</td>\n",
              "      <td>1975</td>\n",
              "      <td>male</td>\n",
              "      <td>8.28</td>\n",
              "      <td>0.0</td>\n",
              "      <td>0.0</td>\n",
              "      <td>93</td>\n",
              "      <td>4_Hot</td>\n",
              "      <td>0_Dry</td>\n",
              "      <td>1970</td>\n",
              "    </tr>\n",
              "    <tr>\n",
              "      <th>1048557</th>\n",
              "      <td>8/16/18</td>\n",
              "      <td>89</td>\n",
              "      <td>1989</td>\n",
              "      <td>female</td>\n",
              "      <td>8.28</td>\n",
              "      <td>0.0</td>\n",
              "      <td>0.0</td>\n",
              "      <td>93</td>\n",
              "      <td>4_Hot</td>\n",
              "      <td>0_Dry</td>\n",
              "      <td>1980</td>\n",
              "    </tr>\n",
              "    <tr>\n",
              "      <th>1048559</th>\n",
              "      <td>8/16/18</td>\n",
              "      <td>4451</td>\n",
              "      <td>1961</td>\n",
              "      <td>female</td>\n",
              "      <td>8.28</td>\n",
              "      <td>0.0</td>\n",
              "      <td>0.0</td>\n",
              "      <td>93</td>\n",
              "      <td>4_Hot</td>\n",
              "      <td>0_Dry</td>\n",
              "      <td>1960</td>\n",
              "    </tr>\n",
              "    <tr>\n",
              "      <th>1048560</th>\n",
              "      <td>8/16/18</td>\n",
              "      <td>537</td>\n",
              "      <td>1981</td>\n",
              "      <td>male</td>\n",
              "      <td>8.28</td>\n",
              "      <td>0.0</td>\n",
              "      <td>0.0</td>\n",
              "      <td>93</td>\n",
              "      <td>4_Hot</td>\n",
              "      <td>0_Dry</td>\n",
              "      <td>1980</td>\n",
              "    </tr>\n",
              "    <tr>\n",
              "      <th>1048562</th>\n",
              "      <td>8/16/18</td>\n",
              "      <td>826</td>\n",
              "      <td>1984</td>\n",
              "      <td>male</td>\n",
              "      <td>8.28</td>\n",
              "      <td>0.0</td>\n",
              "      <td>0.0</td>\n",
              "      <td>93</td>\n",
              "      <td>4_Hot</td>\n",
              "      <td>0_Dry</td>\n",
              "      <td>1980</td>\n",
              "    </tr>\n",
              "    <tr>\n",
              "      <th>1048563</th>\n",
              "      <td>8/16/18</td>\n",
              "      <td>434</td>\n",
              "      <td>1989</td>\n",
              "      <td>female</td>\n",
              "      <td>8.28</td>\n",
              "      <td>0.0</td>\n",
              "      <td>0.0</td>\n",
              "      <td>93</td>\n",
              "      <td>4_Hot</td>\n",
              "      <td>0_Dry</td>\n",
              "      <td>1980</td>\n",
              "    </tr>\n",
              "    <tr>\n",
              "      <th>1048564</th>\n",
              "      <td>8/16/18</td>\n",
              "      <td>2542</td>\n",
              "      <td>1962</td>\n",
              "      <td>male</td>\n",
              "      <td>8.28</td>\n",
              "      <td>0.0</td>\n",
              "      <td>0.0</td>\n",
              "      <td>93</td>\n",
              "      <td>4_Hot</td>\n",
              "      <td>0_Dry</td>\n",
              "      <td>1960</td>\n",
              "    </tr>\n",
              "    <tr>\n",
              "      <th>1048565</th>\n",
              "      <td>8/16/18</td>\n",
              "      <td>886</td>\n",
              "      <td>1968</td>\n",
              "      <td>male</td>\n",
              "      <td>8.28</td>\n",
              "      <td>0.0</td>\n",
              "      <td>0.0</td>\n",
              "      <td>93</td>\n",
              "      <td>4_Hot</td>\n",
              "      <td>0_Dry</td>\n",
              "      <td>1960</td>\n",
              "    </tr>\n",
              "    <tr>\n",
              "      <th>1048566</th>\n",
              "      <td>8/16/18</td>\n",
              "      <td>858</td>\n",
              "      <td>1982</td>\n",
              "      <td>female</td>\n",
              "      <td>8.28</td>\n",
              "      <td>0.0</td>\n",
              "      <td>0.0</td>\n",
              "      <td>93</td>\n",
              "      <td>4_Hot</td>\n",
              "      <td>0_Dry</td>\n",
              "      <td>1980</td>\n",
              "    </tr>\n",
              "    <tr>\n",
              "      <th>1048567</th>\n",
              "      <td>8/16/18</td>\n",
              "      <td>820</td>\n",
              "      <td>1995</td>\n",
              "      <td>male</td>\n",
              "      <td>8.28</td>\n",
              "      <td>0.0</td>\n",
              "      <td>0.0</td>\n",
              "      <td>93</td>\n",
              "      <td>4_Hot</td>\n",
              "      <td>0_Dry</td>\n",
              "      <td>1990</td>\n",
              "    </tr>\n",
              "    <tr>\n",
              "      <th>1048568</th>\n",
              "      <td>8/16/18</td>\n",
              "      <td>1166</td>\n",
              "      <td>1985</td>\n",
              "      <td>male</td>\n",
              "      <td>8.28</td>\n",
              "      <td>0.0</td>\n",
              "      <td>0.0</td>\n",
              "      <td>93</td>\n",
              "      <td>4_Hot</td>\n",
              "      <td>0_Dry</td>\n",
              "      <td>1980</td>\n",
              "    </tr>\n",
              "    <tr>\n",
              "      <th>1048569</th>\n",
              "      <td>8/16/18</td>\n",
              "      <td>1446</td>\n",
              "      <td>1991</td>\n",
              "      <td>male</td>\n",
              "      <td>8.28</td>\n",
              "      <td>0.0</td>\n",
              "      <td>0.0</td>\n",
              "      <td>93</td>\n",
              "      <td>4_Hot</td>\n",
              "      <td>0_Dry</td>\n",
              "      <td>1990</td>\n",
              "    </tr>\n",
              "    <tr>\n",
              "      <th>1048570</th>\n",
              "      <td>8/16/18</td>\n",
              "      <td>679</td>\n",
              "      <td>1986</td>\n",
              "      <td>female</td>\n",
              "      <td>8.28</td>\n",
              "      <td>0.0</td>\n",
              "      <td>0.0</td>\n",
              "      <td>93</td>\n",
              "      <td>4_Hot</td>\n",
              "      <td>0_Dry</td>\n",
              "      <td>1980</td>\n",
              "    </tr>\n",
              "    <tr>\n",
              "      <th>1048571</th>\n",
              "      <td>8/16/18</td>\n",
              "      <td>707</td>\n",
              "      <td>1997</td>\n",
              "      <td>female</td>\n",
              "      <td>8.28</td>\n",
              "      <td>0.0</td>\n",
              "      <td>0.0</td>\n",
              "      <td>93</td>\n",
              "      <td>4_Hot</td>\n",
              "      <td>0_Dry</td>\n",
              "      <td>1990</td>\n",
              "    </tr>\n",
              "    <tr>\n",
              "      <th>1048572</th>\n",
              "      <td>8/16/18</td>\n",
              "      <td>748</td>\n",
              "      <td>1991</td>\n",
              "      <td>male</td>\n",
              "      <td>8.28</td>\n",
              "      <td>0.0</td>\n",
              "      <td>0.0</td>\n",
              "      <td>93</td>\n",
              "      <td>4_Hot</td>\n",
              "      <td>0_Dry</td>\n",
              "      <td>1990</td>\n",
              "    </tr>\n",
              "    <tr>\n",
              "      <th>1048573</th>\n",
              "      <td>8/16/18</td>\n",
              "      <td>639</td>\n",
              "      <td>1987</td>\n",
              "      <td>female</td>\n",
              "      <td>8.28</td>\n",
              "      <td>0.0</td>\n",
              "      <td>0.0</td>\n",
              "      <td>93</td>\n",
              "      <td>4_Hot</td>\n",
              "      <td>0_Dry</td>\n",
              "      <td>1980</td>\n",
              "    </tr>\n",
              "    <tr>\n",
              "      <th>1048574</th>\n",
              "      <td>8/16/18</td>\n",
              "      <td>1292</td>\n",
              "      <td>1961</td>\n",
              "      <td>male</td>\n",
              "      <td>8.28</td>\n",
              "      <td>0.0</td>\n",
              "      <td>0.0</td>\n",
              "      <td>93</td>\n",
              "      <td>4_Hot</td>\n",
              "      <td>0_Dry</td>\n",
              "      <td>1960</td>\n",
              "    </tr>\n",
              "  </tbody>\n",
              "</table>\n",
              "</div>"
            ],
            "text/plain": [
              "            Date  Duration  Birth Year  ... Temp Bucket  Wetness  Decade\n",
              "1048551  8/16/18      1393        1982  ...       4_Hot    0_Dry    1980\n",
              "1048552  8/16/18       285        1995  ...       4_Hot    0_Dry    1990\n",
              "1048555  8/16/18       560        1981  ...       4_Hot    0_Dry    1980\n",
              "1048556  8/16/18       238        1975  ...       4_Hot    0_Dry    1970\n",
              "1048557  8/16/18        89        1989  ...       4_Hot    0_Dry    1980\n",
              "1048559  8/16/18      4451        1961  ...       4_Hot    0_Dry    1960\n",
              "1048560  8/16/18       537        1981  ...       4_Hot    0_Dry    1980\n",
              "1048562  8/16/18       826        1984  ...       4_Hot    0_Dry    1980\n",
              "1048563  8/16/18       434        1989  ...       4_Hot    0_Dry    1980\n",
              "1048564  8/16/18      2542        1962  ...       4_Hot    0_Dry    1960\n",
              "1048565  8/16/18       886        1968  ...       4_Hot    0_Dry    1960\n",
              "1048566  8/16/18       858        1982  ...       4_Hot    0_Dry    1980\n",
              "1048567  8/16/18       820        1995  ...       4_Hot    0_Dry    1990\n",
              "1048568  8/16/18      1166        1985  ...       4_Hot    0_Dry    1980\n",
              "1048569  8/16/18      1446        1991  ...       4_Hot    0_Dry    1990\n",
              "1048570  8/16/18       679        1986  ...       4_Hot    0_Dry    1980\n",
              "1048571  8/16/18       707        1997  ...       4_Hot    0_Dry    1990\n",
              "1048572  8/16/18       748        1991  ...       4_Hot    0_Dry    1990\n",
              "1048573  8/16/18       639        1987  ...       4_Hot    0_Dry    1980\n",
              "1048574  8/16/18      1292        1961  ...       4_Hot    0_Dry    1960\n",
              "\n",
              "[20 rows x 11 columns]"
            ]
          },
          "metadata": {
            "tags": []
          },
          "execution_count": 138
        }
      ]
    },
    {
      "cell_type": "code",
      "metadata": {
        "id": "cP65YfPm9IzT",
        "colab_type": "code",
        "colab": {
          "base_uri": "https://localhost:8080/",
          "height": 141
        },
        "outputId": "4a146480-b5e5-4326-9cc4-c3463c6469a2"
      },
      "source": [
        "ridesPerGender = pd.DataFrame(ride_weather[['Gender', 'Duration']].groupby('Gender').count()) #simply using duration as a placeholder for count!\n",
        "\n",
        "ridesPerGender = ridesPerGender.rename(columns={\"Duration\": \"Count\"}) # fixing this column name for clarity.\n",
        "\n",
        "ride_weather.head(3)"
      ],
      "execution_count": 139,
      "outputs": [
        {
          "output_type": "execute_result",
          "data": {
            "text/html": [
              "<div>\n",
              "<style scoped>\n",
              "    .dataframe tbody tr th:only-of-type {\n",
              "        vertical-align: middle;\n",
              "    }\n",
              "\n",
              "    .dataframe tbody tr th {\n",
              "        vertical-align: top;\n",
              "    }\n",
              "\n",
              "    .dataframe thead th {\n",
              "        text-align: right;\n",
              "    }\n",
              "</style>\n",
              "<table border=\"1\" class=\"dataframe\">\n",
              "  <thead>\n",
              "    <tr style=\"text-align: right;\">\n",
              "      <th></th>\n",
              "      <th>Date</th>\n",
              "      <th>Duration</th>\n",
              "      <th>Birth Year</th>\n",
              "      <th>Gender</th>\n",
              "      <th>Average Wind Speed</th>\n",
              "      <th>Precipitation</th>\n",
              "      <th>Snowfall</th>\n",
              "      <th>Max Temperature</th>\n",
              "      <th>Temp Bucket</th>\n",
              "      <th>Wetness</th>\n",
              "      <th>Decade</th>\n",
              "    </tr>\n",
              "  </thead>\n",
              "  <tbody>\n",
              "    <tr>\n",
              "      <th>0</th>\n",
              "      <td>1/2/18</td>\n",
              "      <td>732</td>\n",
              "      <td>1969</td>\n",
              "      <td>male</td>\n",
              "      <td>13.87</td>\n",
              "      <td>0.0</td>\n",
              "      <td>0.0</td>\n",
              "      <td>26</td>\n",
              "      <td>0_Freezing</td>\n",
              "      <td>0_Dry</td>\n",
              "      <td>1960</td>\n",
              "    </tr>\n",
              "    <tr>\n",
              "      <th>1</th>\n",
              "      <td>1/3/18</td>\n",
              "      <td>520</td>\n",
              "      <td>1960</td>\n",
              "      <td>male</td>\n",
              "      <td>6.93</td>\n",
              "      <td>0.0</td>\n",
              "      <td>0.0</td>\n",
              "      <td>30</td>\n",
              "      <td>0_Freezing</td>\n",
              "      <td>0_Dry</td>\n",
              "      <td>1960</td>\n",
              "    </tr>\n",
              "    <tr>\n",
              "      <th>2</th>\n",
              "      <td>1/2/18</td>\n",
              "      <td>324</td>\n",
              "      <td>1947</td>\n",
              "      <td>male</td>\n",
              "      <td>13.87</td>\n",
              "      <td>0.0</td>\n",
              "      <td>0.0</td>\n",
              "      <td>26</td>\n",
              "      <td>0_Freezing</td>\n",
              "      <td>0_Dry</td>\n",
              "      <td>1940</td>\n",
              "    </tr>\n",
              "  </tbody>\n",
              "</table>\n",
              "</div>"
            ],
            "text/plain": [
              "     Date  Duration  Birth Year  ... Temp Bucket  Wetness  Decade\n",
              "0  1/2/18       732        1969  ...  0_Freezing    0_Dry    1960\n",
              "1  1/3/18       520        1960  ...  0_Freezing    0_Dry    1960\n",
              "2  1/2/18       324        1947  ...  0_Freezing    0_Dry    1940\n",
              "\n",
              "[3 rows x 11 columns]"
            ]
          },
          "metadata": {
            "tags": []
          },
          "execution_count": 139
        }
      ]
    },
    {
      "cell_type": "code",
      "metadata": {
        "id": "mckkc3ioNgcN",
        "colab_type": "code",
        "outputId": "c174c7f6-5350-4a29-f9df-38c81ae6dbc5",
        "colab": {
          "base_uri": "https://localhost:8080/",
          "height": 325
        }
      },
      "source": [
        "#Let's ~~~visualize~~~\n",
        "\n",
        "ridesPerGender.plot(kind='bar')\n",
        "\n",
        "#Woah! Way more Citibike rides are taken by males than females. "
      ],
      "execution_count": 140,
      "outputs": [
        {
          "output_type": "execute_result",
          "data": {
            "text/plain": [
              "<matplotlib.axes._subplots.AxesSubplot at 0x7f9cbfda54e0>"
            ]
          },
          "metadata": {
            "tags": []
          },
          "execution_count": 140
        },
        {
          "output_type": "display_data",
          "data": {
            "image/png": "[encoded data removed]",
            "text/plain": [
              "<Figure size 432x288 with 1 Axes>"
            ]
          },
          "metadata": {
            "tags": []
          }
        }
      ]
    },
    {
      "cell_type": "code",
      "metadata": {
        "id": "wgJqUbabOqeF",
        "colab_type": "code",
        "outputId": "6287cef3-01bf-46a2-be74-f14fbac4f888",
        "colab": {
          "base_uri": "https://localhost:8080/",
          "height": 141
        }
      },
      "source": [
        "#What happens if we look at ride duration?\n",
        "\n",
        "ride_weather.groupby('Gender')['Duration'].agg(['mean', 'min', 'max'])\n",
        "\n",
        "# We find out that Citibike a) has a minimum of 61 seconds per ride (???) and also doesn't remove data on rides that result in stolen bikes. "
      ],
      "execution_count": 141,
      "outputs": [
        {
          "output_type": "execute_result",
          "data": {
            "text/html": [
              "<div>\n",
              "<style scoped>\n",
              "    .dataframe tbody tr th:only-of-type {\n",
              "        vertical-align: middle;\n",
              "    }\n",
              "\n",
              "    .dataframe tbody tr th {\n",
              "        vertical-align: top;\n",
              "    }\n",
              "\n",
              "    .dataframe thead th {\n",
              "        text-align: right;\n",
              "    }\n",
              "</style>\n",
              "<table border=\"1\" class=\"dataframe\">\n",
              "  <thead>\n",
              "    <tr style=\"text-align: right;\">\n",
              "      <th></th>\n",
              "      <th>mean</th>\n",
              "      <th>min</th>\n",
              "      <th>max</th>\n",
              "    </tr>\n",
              "    <tr>\n",
              "      <th>Gender</th>\n",
              "      <th></th>\n",
              "      <th></th>\n",
              "      <th></th>\n",
              "    </tr>\n",
              "  </thead>\n",
              "  <tbody>\n",
              "    <tr>\n",
              "      <th>female</th>\n",
              "      <td>1026.653558</td>\n",
              "      <td>61</td>\n",
              "      <td>5090114</td>\n",
              "    </tr>\n",
              "    <tr>\n",
              "      <th>male</th>\n",
              "      <td>832.185940</td>\n",
              "      <td>61</td>\n",
              "      <td>3553060</td>\n",
              "    </tr>\n",
              "  </tbody>\n",
              "</table>\n",
              "</div>"
            ],
            "text/plain": [
              "               mean  min      max\n",
              "Gender                           \n",
              "female  1026.653558   61  5090114\n",
              "male     832.185940   61  3553060"
            ]
          },
          "metadata": {
            "tags": []
          },
          "execution_count": 141
        }
      ]
    },
    {
      "cell_type": "code",
      "metadata": {
        "id": "r5raC6gAP_MO",
        "colab_type": "code",
        "outputId": "c2e6d61d-973a-4605-898e-be0dbece144f",
        "colab": {
          "base_uri": "https://localhost:8080/",
          "height": 141
        }
      },
      "source": [
        "# That more or less prevents me from taking any aggrigate data seriously, so I'm going to stick with median as my baseline measure\n",
        "\n",
        "ride_weather.groupby('Gender')['Duration'].agg(['median'])"
      ],
      "execution_count": 142,
      "outputs": [
        {
          "output_type": "execute_result",
          "data": {
            "text/html": [
              "<div>\n",
              "<style scoped>\n",
              "    .dataframe tbody tr th:only-of-type {\n",
              "        vertical-align: middle;\n",
              "    }\n",
              "\n",
              "    .dataframe tbody tr th {\n",
              "        vertical-align: top;\n",
              "    }\n",
              "\n",
              "    .dataframe thead th {\n",
              "        text-align: right;\n",
              "    }\n",
              "</style>\n",
              "<table border=\"1\" class=\"dataframe\">\n",
              "  <thead>\n",
              "    <tr style=\"text-align: right;\">\n",
              "      <th></th>\n",
              "      <th>median</th>\n",
              "    </tr>\n",
              "    <tr>\n",
              "      <th>Gender</th>\n",
              "      <th></th>\n",
              "    </tr>\n",
              "  </thead>\n",
              "  <tbody>\n",
              "    <tr>\n",
              "      <th>female</th>\n",
              "      <td>660</td>\n",
              "    </tr>\n",
              "    <tr>\n",
              "      <th>male</th>\n",
              "      <td>550</td>\n",
              "    </tr>\n",
              "  </tbody>\n",
              "</table>\n",
              "</div>"
            ],
            "text/plain": [
              "        median\n",
              "Gender        \n",
              "female     660\n",
              "male       550"
            ]
          },
          "metadata": {
            "tags": []
          },
          "execution_count": 142
        }
      ]
    },
    {
      "cell_type": "code",
      "metadata": {
        "id": "-AFPqYD_Lf4x",
        "colab_type": "code",
        "outputId": "03608eaf-eb9e-4130-e967-18d331f86a63",
        "colab": {
          "base_uri": "https://localhost:8080/",
          "height": 104
        }
      },
      "source": [
        "#And now some age analysis!\n",
        "#First off, let's make sure we're working with integers for birth years. \n",
        "\n",
        "ride_weather['Birth Year'] = ride_weather['Birth Year'].astype(int)\n",
        "rides.dtypes"
      ],
      "execution_count": 143,
      "outputs": [
        {
          "output_type": "execute_result",
          "data": {
            "text/plain": [
              "Date          object\n",
              "Duration       int64\n",
              "Birth Year     int64\n",
              "Gender         int64\n",
              "dtype: object"
            ]
          },
          "metadata": {
            "tags": []
          },
          "execution_count": 143
        }
      ]
    },
    {
      "cell_type": "code",
      "metadata": {
        "id": "RBi6WhWcEzHl",
        "colab_type": "code",
        "outputId": "5058eefe-68e7-4530-81c9-b6b3bde5c3de",
        "colab": {
          "base_uri": "https://localhost:8080/",
          "height": 34
        }
      },
      "source": [
        "#Now let's see what our distribution and range look like\n",
        "\n",
        "\n",
        "ride_weather[['Birth Year', 'Duration']].groupby('Birth Year').count().shape\n"
      ],
      "execution_count": 144,
      "outputs": [
        {
          "output_type": "execute_result",
          "data": {
            "text/plain": [
              "(99, 1)"
            ]
          },
          "metadata": {
            "tags": []
          },
          "execution_count": 144
        }
      ]
    },
    {
      "cell_type": "code",
      "metadata": {
        "id": "NqbO0G-IL1vG",
        "colab_type": "code",
        "outputId": "e65620ab-5f24-4c0e-ac08-6be98ed68631",
        "colab": {
          "base_uri": "https://localhost:8080/",
          "height": 846
        }
      },
      "source": [
        "#99 rows?? That's a lot of different birth years. How old are these riders???\n",
        "\n",
        "ride_weather[['Birth Year', 'Duration']].groupby('Birth Year').count().sort_values('Birth Year', ascending = True).head(25)"
      ],
      "execution_count": 145,
      "outputs": [
        {
          "output_type": "execute_result",
          "data": {
            "text/html": [
              "<div>\n",
              "<style scoped>\n",
              "    .dataframe tbody tr th:only-of-type {\n",
              "        vertical-align: middle;\n",
              "    }\n",
              "\n",
              "    .dataframe tbody tr th {\n",
              "        vertical-align: top;\n",
              "    }\n",
              "\n",
              "    .dataframe thead th {\n",
              "        text-align: right;\n",
              "    }\n",
              "</style>\n",
              "<table border=\"1\" class=\"dataframe\">\n",
              "  <thead>\n",
              "    <tr style=\"text-align: right;\">\n",
              "      <th></th>\n",
              "      <th>Duration</th>\n",
              "    </tr>\n",
              "    <tr>\n",
              "      <th>Birth Year</th>\n",
              "      <th></th>\n",
              "    </tr>\n",
              "  </thead>\n",
              "  <tbody>\n",
              "    <tr>\n",
              "      <th>1886</th>\n",
              "      <td>13</td>\n",
              "    </tr>\n",
              "    <tr>\n",
              "      <th>1887</th>\n",
              "      <td>2</td>\n",
              "    </tr>\n",
              "    <tr>\n",
              "      <th>1888</th>\n",
              "      <td>17</td>\n",
              "    </tr>\n",
              "    <tr>\n",
              "      <th>1889</th>\n",
              "      <td>2</td>\n",
              "    </tr>\n",
              "    <tr>\n",
              "      <th>1890</th>\n",
              "      <td>2</td>\n",
              "    </tr>\n",
              "    <tr>\n",
              "      <th>1893</th>\n",
              "      <td>1</td>\n",
              "    </tr>\n",
              "    <tr>\n",
              "      <th>1894</th>\n",
              "      <td>22</td>\n",
              "    </tr>\n",
              "    <tr>\n",
              "      <th>1895</th>\n",
              "      <td>17</td>\n",
              "    </tr>\n",
              "    <tr>\n",
              "      <th>1899</th>\n",
              "      <td>15</td>\n",
              "    </tr>\n",
              "    <tr>\n",
              "      <th>1900</th>\n",
              "      <td>438</td>\n",
              "    </tr>\n",
              "    <tr>\n",
              "      <th>1901</th>\n",
              "      <td>30</td>\n",
              "    </tr>\n",
              "    <tr>\n",
              "      <th>1907</th>\n",
              "      <td>1</td>\n",
              "    </tr>\n",
              "    <tr>\n",
              "      <th>1910</th>\n",
              "      <td>22</td>\n",
              "    </tr>\n",
              "    <tr>\n",
              "      <th>1912</th>\n",
              "      <td>16</td>\n",
              "    </tr>\n",
              "    <tr>\n",
              "      <th>1913</th>\n",
              "      <td>2</td>\n",
              "    </tr>\n",
              "    <tr>\n",
              "      <th>1915</th>\n",
              "      <td>1</td>\n",
              "    </tr>\n",
              "    <tr>\n",
              "      <th>1916</th>\n",
              "      <td>5</td>\n",
              "    </tr>\n",
              "    <tr>\n",
              "      <th>1917</th>\n",
              "      <td>7</td>\n",
              "    </tr>\n",
              "    <tr>\n",
              "      <th>1918</th>\n",
              "      <td>9</td>\n",
              "    </tr>\n",
              "    <tr>\n",
              "      <th>1919</th>\n",
              "      <td>12</td>\n",
              "    </tr>\n",
              "    <tr>\n",
              "      <th>1921</th>\n",
              "      <td>11</td>\n",
              "    </tr>\n",
              "    <tr>\n",
              "      <th>1923</th>\n",
              "      <td>103</td>\n",
              "    </tr>\n",
              "    <tr>\n",
              "      <th>1924</th>\n",
              "      <td>24</td>\n",
              "    </tr>\n",
              "    <tr>\n",
              "      <th>1926</th>\n",
              "      <td>4</td>\n",
              "    </tr>\n",
              "    <tr>\n",
              "      <th>1928</th>\n",
              "      <td>1</td>\n",
              "    </tr>\n",
              "  </tbody>\n",
              "</table>\n",
              "</div>"
            ],
            "text/plain": [
              "            Duration\n",
              "Birth Year          \n",
              "1886              13\n",
              "1887               2\n",
              "1888              17\n",
              "1889               2\n",
              "1890               2\n",
              "1893               1\n",
              "1894              22\n",
              "1895              17\n",
              "1899              15\n",
              "1900             438\n",
              "1901              30\n",
              "1907               1\n",
              "1910              22\n",
              "1912              16\n",
              "1913               2\n",
              "1915               1\n",
              "1916               5\n",
              "1917               7\n",
              "1918               9\n",
              "1919              12\n",
              "1921              11\n",
              "1923             103\n",
              "1924              24\n",
              "1926               4\n",
              "1928               1"
            ]
          },
          "metadata": {
            "tags": []
          },
          "execution_count": 145
        }
      ]
    },
    {
      "cell_type": "code",
      "metadata": {
        "id": "WIHmYBQOJoA-",
        "colab_type": "code",
        "outputId": "4eedda83-c192-4c5f-b611-e101edbab654",
        "colab": {
          "base_uri": "https://localhost:8080/",
          "height": 233
        }
      },
      "source": [
        "#Clearly there are some Citibike trolls who think it is funny to mess with my data! I'm going to go ahead and say \n",
        "#that anyone born after 1936 not riding a citi bike (seemed like an inflexion point)\n",
        "\n",
        "ridesIndex = ride_weather[ ride_weather['Birth Year'] < 1937 ].index\n",
        "ride_weather = ride_weather.drop(ridesIndex, axis=0)\n",
        "\n",
        "ridesPerDec = ride_weather.rename(columns={\"Duration\": \"Count\"})\n",
        "\n",
        "\n",
        "ridesPerDec[['Birth Year', 'Count']].groupby('Birth Year').count().sort_values('Birth Year', ascending = True).head(5)"
      ],
      "execution_count": 146,
      "outputs": [
        {
          "output_type": "execute_result",
          "data": {
            "text/html": [
              "<div>\n",
              "<style scoped>\n",
              "    .dataframe tbody tr th:only-of-type {\n",
              "        vertical-align: middle;\n",
              "    }\n",
              "\n",
              "    .dataframe tbody tr th {\n",
              "        vertical-align: top;\n",
              "    }\n",
              "\n",
              "    .dataframe thead th {\n",
              "        text-align: right;\n",
              "    }\n",
              "</style>\n",
              "<table border=\"1\" class=\"dataframe\">\n",
              "  <thead>\n",
              "    <tr style=\"text-align: right;\">\n",
              "      <th></th>\n",
              "      <th>Count</th>\n",
              "    </tr>\n",
              "    <tr>\n",
              "      <th>Birth Year</th>\n",
              "      <th></th>\n",
              "    </tr>\n",
              "  </thead>\n",
              "  <tbody>\n",
              "    <tr>\n",
              "      <th>1937</th>\n",
              "      <td>138</td>\n",
              "    </tr>\n",
              "    <tr>\n",
              "      <th>1938</th>\n",
              "      <td>114</td>\n",
              "    </tr>\n",
              "    <tr>\n",
              "      <th>1939</th>\n",
              "      <td>80</td>\n",
              "    </tr>\n",
              "    <tr>\n",
              "      <th>1940</th>\n",
              "      <td>276</td>\n",
              "    </tr>\n",
              "    <tr>\n",
              "      <th>1941</th>\n",
              "      <td>418</td>\n",
              "    </tr>\n",
              "  </tbody>\n",
              "</table>\n",
              "</div>"
            ],
            "text/plain": [
              "            Count\n",
              "Birth Year       \n",
              "1937          138\n",
              "1938          114\n",
              "1939           80\n",
              "1940          276\n",
              "1941          418"
            ]
          },
          "metadata": {
            "tags": []
          },
          "execution_count": 146
        }
      ]
    },
    {
      "cell_type": "code",
      "metadata": {
        "id": "iW0Boj8dDm6W",
        "colab_type": "code",
        "outputId": "967bf013-fd8e-4d45-eea8-a8d94578e57d",
        "colab": {
          "base_uri": "https://localhost:8080/",
          "height": 316
        }
      },
      "source": [
        "#So what does our age distribution look like?\n",
        "\n",
        "ridesPerDec[['Decade', 'Count']].groupby('Decade').count().sort_values('Decade', ascending = True).plot(kind='bar')"
      ],
      "execution_count": 147,
      "outputs": [
        {
          "output_type": "execute_result",
          "data": {
            "text/plain": [
              "<matplotlib.axes._subplots.AxesSubplot at 0x7f9cbe42a748>"
            ]
          },
          "metadata": {
            "tags": []
          },
          "execution_count": 147
        },
        {
          "output_type": "display_data",
          "data": {
            "image/png": "[encoded data removed]",
            "text/plain": [
              "<Figure size 432x288 with 1 Axes>"
            ]
          },
          "metadata": {
            "tags": []
          }
        }
      ]
    },
    {
      "cell_type": "code",
      "metadata": {
        "id": "KSLNfJTAON1L",
        "colab_type": "code",
        "outputId": "257fc964-feb9-47ca-b753-ed868d828ff8",
        "colab": {
          "base_uri": "https://localhost:8080/",
          "height": 141
        }
      },
      "source": [
        "ride_weather.head(3)"
      ],
      "execution_count": 148,
      "outputs": [
        {
          "output_type": "execute_result",
          "data": {
            "text/html": [
              "<div>\n",
              "<style scoped>\n",
              "    .dataframe tbody tr th:only-of-type {\n",
              "        vertical-align: middle;\n",
              "    }\n",
              "\n",
              "    .dataframe tbody tr th {\n",
              "        vertical-align: top;\n",
              "    }\n",
              "\n",
              "    .dataframe thead th {\n",
              "        text-align: right;\n",
              "    }\n",
              "</style>\n",
              "<table border=\"1\" class=\"dataframe\">\n",
              "  <thead>\n",
              "    <tr style=\"text-align: right;\">\n",
              "      <th></th>\n",
              "      <th>Date</th>\n",
              "      <th>Duration</th>\n",
              "      <th>Birth Year</th>\n",
              "      <th>Gender</th>\n",
              "      <th>Average Wind Speed</th>\n",
              "      <th>Precipitation</th>\n",
              "      <th>Snowfall</th>\n",
              "      <th>Max Temperature</th>\n",
              "      <th>Temp Bucket</th>\n",
              "      <th>Wetness</th>\n",
              "      <th>Decade</th>\n",
              "    </tr>\n",
              "  </thead>\n",
              "  <tbody>\n",
              "    <tr>\n",
              "      <th>0</th>\n",
              "      <td>1/2/18</td>\n",
              "      <td>732</td>\n",
              "      <td>1969</td>\n",
              "      <td>male</td>\n",
              "      <td>13.87</td>\n",
              "      <td>0.0</td>\n",
              "      <td>0.0</td>\n",
              "      <td>26</td>\n",
              "      <td>0_Freezing</td>\n",
              "      <td>0_Dry</td>\n",
              "      <td>1960</td>\n",
              "    </tr>\n",
              "    <tr>\n",
              "      <th>1</th>\n",
              "      <td>1/3/18</td>\n",
              "      <td>520</td>\n",
              "      <td>1960</td>\n",
              "      <td>male</td>\n",
              "      <td>6.93</td>\n",
              "      <td>0.0</td>\n",
              "      <td>0.0</td>\n",
              "      <td>30</td>\n",
              "      <td>0_Freezing</td>\n",
              "      <td>0_Dry</td>\n",
              "      <td>1960</td>\n",
              "    </tr>\n",
              "    <tr>\n",
              "      <th>2</th>\n",
              "      <td>1/2/18</td>\n",
              "      <td>324</td>\n",
              "      <td>1947</td>\n",
              "      <td>male</td>\n",
              "      <td>13.87</td>\n",
              "      <td>0.0</td>\n",
              "      <td>0.0</td>\n",
              "      <td>26</td>\n",
              "      <td>0_Freezing</td>\n",
              "      <td>0_Dry</td>\n",
              "      <td>1940</td>\n",
              "    </tr>\n",
              "  </tbody>\n",
              "</table>\n",
              "</div>"
            ],
            "text/plain": [
              "     Date  Duration  Birth Year  ... Temp Bucket  Wetness  Decade\n",
              "0  1/2/18       732        1969  ...  0_Freezing    0_Dry    1960\n",
              "1  1/3/18       520        1960  ...  0_Freezing    0_Dry    1960\n",
              "2  1/2/18       324        1947  ...  0_Freezing    0_Dry    1940\n",
              "\n",
              "[3 rows x 11 columns]"
            ]
          },
          "metadata": {
            "tags": []
          },
          "execution_count": 148
        }
      ]
    },
    {
      "cell_type": "code",
      "metadata": {
        "id": "9G5uEkhrOTg1",
        "colab_type": "code",
        "outputId": "a10cd7bf-194a-4f12-b2d8-afc84fe3935d",
        "colab": {
          "base_uri": "https://localhost:8080/",
          "height": 316
        }
      },
      "source": [
        "#Looking at median ride duration, it actually seems to be fairly uniform, with a slight uptick amongst Gen Z... \n",
        "#But all in all, your typical Citibike ride is goign to run around 10 minutes. Makes sense!\n",
        "\n",
        "ride_weather[['Decade', 'Birth Year']]\n",
        "age_ride_dur = ride_weather.groupby(['Decade']).agg(['median'])\n",
        "age_ride_dur.plot(kind='bar', y='Duration')\n"
      ],
      "execution_count": 149,
      "outputs": [
        {
          "output_type": "execute_result",
          "data": {
            "text/plain": [
              "<matplotlib.axes._subplots.AxesSubplot at 0x7f9cbe421208>"
            ]
          },
          "metadata": {
            "tags": []
          },
          "execution_count": 149
        },
        {
          "output_type": "display_data",
          "data": {
            "image/png": "[encoded data removed]",
            "text/plain": [
              "<Figure size 432x288 with 1 Axes>"
            ]
          },
          "metadata": {
            "tags": []
          }
        }
      ]
    },
    {
      "cell_type": "markdown",
      "metadata": {
        "id": "wOavJN0HI5Ij",
        "colab_type": "text"
      },
      "source": [
        "Part 2 - Let's pull in some of our weather data. How will weather impact our demographic segments? Starting simple, let's just see what our data looks like for NYC in 2018, for both Max temperature and for precipitation. "
      ]
    },
    {
      "cell_type": "code",
      "metadata": {
        "id": "evcU2WELWfiz",
        "colab_type": "code",
        "outputId": "129fcc16-2f74-4b4c-f59c-78ae621d7d09",
        "colab": {
          "base_uri": "https://localhost:8080/",
          "height": 597
        }
      },
      "source": [
        "weather[['Date', 'Max Temperature']]\n",
        "weather.plot(kind='line', y='Max Temperature')\n",
        "\n",
        "weather_temp = weather.rename(columns={'Date':'Count'})\n",
        "weather_temp[['Count', 'Temp Bucket']].groupby('Temp Bucket').count().sort_values('Temp Bucket').plot(kind='bar')"
      ],
      "execution_count": 150,
      "outputs": [
        {
          "output_type": "execute_result",
          "data": {
            "text/plain": [
              "<matplotlib.axes._subplots.AxesSubplot at 0x7f9cbe2e8a58>"
            ]
          },
          "metadata": {
            "tags": []
          },
          "execution_count": 150
        },
        {
          "output_type": "display_data",
          "data": {
            "image/png": "[encoded data removed]",
            "text/plain": [
              "<Figure size 432x288 with 1 Axes>"
            ]
          },
          "metadata": {
            "tags": []
          }
        },
        {
          "output_type": "display_data",
          "data": {
            "image/png": "[encoded data removed]",
            "text/plain": [
              "<Figure size 432x288 with 1 Axes>"
            ]
          },
          "metadata": {
            "tags": []
          }
        }
      ]
    },
    {
      "cell_type": "code",
      "metadata": {
        "id": "B_4SWwPOocRv",
        "colab_type": "code",
        "outputId": "332edfc9-af48-4830-c6bc-22f3fbda6921",
        "colab": {
          "base_uri": "https://localhost:8080/",
          "height": 613
        }
      },
      "source": [
        "#What about precipitation?\n",
        "\n",
        "weather[['Date', 'Precipitation']]\n",
        "weather.plot(kind='line', y='Precipitation')\n",
        "\n",
        "plt.ylabel('inches of precipitation')\n",
        "plt.xlabel('Day of the year')\n",
        "\n",
        "weather_temp = weather.rename(columns={'Date':'Count'})\n",
        "weather_temp[['Count', 'Wetness']].groupby('Wetness').count().sort_values('Count', ascending = False).plot(kind='bar')\n",
        "\n",
        "plt.ylabel('Days of the year')"
      ],
      "execution_count": 151,
      "outputs": [
        {
          "output_type": "execute_result",
          "data": {
            "text/plain": [
              "Text(0, 0.5, 'Days of the year')"
            ]
          },
          "metadata": {
            "tags": []
          },
          "execution_count": 151
        },
        {
          "output_type": "display_data",
          "data": {
            "image/png": "[encoded data removed]",
            "text/plain": [
              "<Figure size 432x288 with 1 Axes>"
            ]
          },
          "metadata": {
            "tags": []
          }
        },
        {
          "output_type": "display_data",
          "data": {
            "image/png": "[encoded data removed]",
            "text/plain": [
              "<Figure size 432x288 with 1 Axes>"
            ]
          },
          "metadata": {
            "tags": []
          }
        }
      ]
    },
    {
      "cell_type": "code",
      "metadata": {
        "id": "6DSLkiMuojcH",
        "colab_type": "code",
        "colab": {
          "base_uri": "https://localhost:8080/",
          "height": 233
        },
        "outputId": "13613b06-cf63-49da-83fb-be17227491fe"
      },
      "source": [
        "#Unsurprisingly, temperature follows a general trend with the seasons, while precipitation is super volatile.\n",
        "#On a summary basis, most days are dry, and very few have substantial precipitation, while temperature is well distributed.\n",
        "\n",
        "#I'm going to start with temperature, to understand how much high and low temperatures impact ride volume and duration for male and female riders.\n",
        "\n",
        "gender_rides = pd.crosstab(ride_weather['Temp Bucket'], ride_weather['Gender'])\n",
        "\n",
        "gender_rides\n"
      ],
      "execution_count": 152,
      "outputs": [
        {
          "output_type": "execute_result",
          "data": {
            "text/html": [
              "<div>\n",
              "<style scoped>\n",
              "    .dataframe tbody tr th:only-of-type {\n",
              "        vertical-align: middle;\n",
              "    }\n",
              "\n",
              "    .dataframe tbody tr th {\n",
              "        vertical-align: top;\n",
              "    }\n",
              "\n",
              "    .dataframe thead th {\n",
              "        text-align: right;\n",
              "    }\n",
              "</style>\n",
              "<table border=\"1\" class=\"dataframe\">\n",
              "  <thead>\n",
              "    <tr style=\"text-align: right;\">\n",
              "      <th>Gender</th>\n",
              "      <th>female</th>\n",
              "      <th>male</th>\n",
              "    </tr>\n",
              "    <tr>\n",
              "      <th>Temp Bucket</th>\n",
              "      <th></th>\n",
              "      <th></th>\n",
              "    </tr>\n",
              "  </thead>\n",
              "  <tbody>\n",
              "    <tr>\n",
              "      <th>0_Freezing</th>\n",
              "      <td>3143</td>\n",
              "      <td>11970</td>\n",
              "    </tr>\n",
              "    <tr>\n",
              "      <th>1_Cold</th>\n",
              "      <td>36180</td>\n",
              "      <td>124142</td>\n",
              "    </tr>\n",
              "    <tr>\n",
              "      <th>2_Mild</th>\n",
              "      <td>34634</td>\n",
              "      <td>110325</td>\n",
              "    </tr>\n",
              "    <tr>\n",
              "      <th>3_Warm</th>\n",
              "      <td>91623</td>\n",
              "      <td>253000</td>\n",
              "    </tr>\n",
              "    <tr>\n",
              "      <th>4_Hot</th>\n",
              "      <td>77128</td>\n",
              "      <td>209067</td>\n",
              "    </tr>\n",
              "  </tbody>\n",
              "</table>\n",
              "</div>"
            ],
            "text/plain": [
              "Gender       female    male\n",
              "Temp Bucket                \n",
              "0_Freezing     3143   11970\n",
              "1_Cold        36180  124142\n",
              "2_Mild        34634  110325\n",
              "3_Warm        91623  253000\n",
              "4_Hot         77128  209067"
            ]
          },
          "metadata": {
            "tags": []
          },
          "execution_count": 152
        }
      ]
    },
    {
      "cell_type": "code",
      "metadata": {
        "id": "qxX1DoYLSI2W",
        "colab_type": "code",
        "colab": {
          "base_uri": "https://localhost:8080/",
          "height": 345
        },
        "outputId": "64988ea6-c605-45a6-bb03-cf8201927aae"
      },
      "source": [
        "#How do our temperature buckets look when split between genders?\n",
        "\n",
        "gender_rides.plot(kind = 'bar')\n",
        "\n",
        "plt.ylabel('total rides')"
      ],
      "execution_count": 153,
      "outputs": [
        {
          "output_type": "execute_result",
          "data": {
            "text/plain": [
              "Text(0, 0.5, 'total rides')"
            ]
          },
          "metadata": {
            "tags": []
          },
          "execution_count": 153
        },
        {
          "output_type": "display_data",
          "data": {
            "image/png": "[encoded data removed]",
            "text/plain": [
              "<Figure size 432x288 with 1 Axes>"
            ]
          },
          "metadata": {
            "tags": []
          }
        }
      ]
    },
    {
      "cell_type": "code",
      "metadata": {
        "id": "-3RicKGzSqnl",
        "colab_type": "code",
        "colab": {
          "base_uri": "https://localhost:8080/",
          "height": 345
        },
        "outputId": "581add06-2bf4-4b8f-ee46-6b176a28aad6"
      },
      "source": [
        "#That's cool, but not that helpful. Let's look at a ratio column to see what's going on. \n",
        "\n",
        "\n",
        "gender_rides['% female'] = (gender_rides['female'] / (gender_rides['female']+gender_rides['male']))\n",
        "\n",
        "gender_rides['% female'].plot(kind = 'bar')\n",
        "\n",
        "plt.ylabel('% rides taken by a female')"
      ],
      "execution_count": 154,
      "outputs": [
        {
          "output_type": "execute_result",
          "data": {
            "text/plain": [
              "Text(0, 0.5, '% rides taken by a female')"
            ]
          },
          "metadata": {
            "tags": []
          },
          "execution_count": 154
        },
        {
          "output_type": "display_data",
          "data": {
            "image/png": "[encoded data removed]",
            "text/plain": [
              "<Figure size 432x288 with 1 Axes>"
            ]
          },
          "metadata": {
            "tags": []
          }
        }
      ]
    },
    {
      "cell_type": "code",
      "metadata": {
        "id": "ohUYGSwqpdmu",
        "colab_type": "code",
        "colab": {
          "base_uri": "https://localhost:8080/",
          "height": 346
        },
        "outputId": "344d0189-02a5-4d83-9d56-3ed7c1d170e4"
      },
      "source": [
        "#That's kinda cool - seems like women are more down with the heat!\n",
        "\n",
        "#Let's look into precipitation. How much do people care overall?\n",
        "\n",
        "precip_rides = ride_weather.rename(columns={'Date':'Count'})\n",
        "precip_rides[['Count', 'Wetness']].groupby('Wetness').count().sort_values('Count', ascending = False).plot(kind='bar')\n",
        "\n",
        "plt.ylabel('Rides taken')"
      ],
      "execution_count": 155,
      "outputs": [
        {
          "output_type": "execute_result",
          "data": {
            "text/plain": [
              "Text(0, 0.5, 'Rides taken')"
            ]
          },
          "metadata": {
            "tags": []
          },
          "execution_count": 155
        },
        {
          "output_type": "display_data",
          "data": {
            "image/png": "[encoded data removed]",
            "text/plain": [
              "<Figure size 432x288 with 1 Axes>"
            ]
          },
          "metadata": {
            "tags": []
          }
        }
      ]
    },
    {
      "cell_type": "code",
      "metadata": {
        "id": "VZGhlSQipp4U",
        "colab_type": "code",
        "colab": {
          "base_uri": "https://localhost:8080/",
          "height": 233
        },
        "outputId": "5b8abc62-1ec1-4458-f1b8-6dc0f3b52dd1"
      },
      "source": [
        "#By gender?\n",
        "\n",
        "precip_rides = pd.crosstab(ride_weather['Wetness'], ride_weather['Gender'])\n",
        "\n",
        "precip_rides"
      ],
      "execution_count": 156,
      "outputs": [
        {
          "output_type": "execute_result",
          "data": {
            "text/html": [
              "<div>\n",
              "<style scoped>\n",
              "    .dataframe tbody tr th:only-of-type {\n",
              "        vertical-align: middle;\n",
              "    }\n",
              "\n",
              "    .dataframe tbody tr th {\n",
              "        vertical-align: top;\n",
              "    }\n",
              "\n",
              "    .dataframe thead th {\n",
              "        text-align: right;\n",
              "    }\n",
              "</style>\n",
              "<table border=\"1\" class=\"dataframe\">\n",
              "  <thead>\n",
              "    <tr style=\"text-align: right;\">\n",
              "      <th>Gender</th>\n",
              "      <th>female</th>\n",
              "      <th>male</th>\n",
              "    </tr>\n",
              "    <tr>\n",
              "      <th>Wetness</th>\n",
              "      <th></th>\n",
              "      <th></th>\n",
              "    </tr>\n",
              "  </thead>\n",
              "  <tbody>\n",
              "    <tr>\n",
              "      <th>0_Dry</th>\n",
              "      <td>152641</td>\n",
              "      <td>440237</td>\n",
              "    </tr>\n",
              "    <tr>\n",
              "      <th>1_Drizzle</th>\n",
              "      <td>69085</td>\n",
              "      <td>206638</td>\n",
              "    </tr>\n",
              "    <tr>\n",
              "      <th>2_Rain</th>\n",
              "      <td>13706</td>\n",
              "      <td>40576</td>\n",
              "    </tr>\n",
              "    <tr>\n",
              "      <th>3_Pouring</th>\n",
              "      <td>6698</td>\n",
              "      <td>19118</td>\n",
              "    </tr>\n",
              "    <tr>\n",
              "      <th>4_Monsoon</th>\n",
              "      <td>578</td>\n",
              "      <td>1935</td>\n",
              "    </tr>\n",
              "  </tbody>\n",
              "</table>\n",
              "</div>"
            ],
            "text/plain": [
              "Gender     female    male\n",
              "Wetness                  \n",
              "0_Dry      152641  440237\n",
              "1_Drizzle   69085  206638\n",
              "2_Rain      13706   40576\n",
              "3_Pouring    6698   19118\n",
              "4_Monsoon     578    1935"
            ]
          },
          "metadata": {
            "tags": []
          },
          "execution_count": 156
        }
      ]
    },
    {
      "cell_type": "code",
      "metadata": {
        "id": "aDZ8Ys5HqyOQ",
        "colab_type": "code",
        "colab": {
          "base_uri": "https://localhost:8080/",
          "height": 346
        },
        "outputId": "63ab900b-718f-4fdc-b8f8-28c8681dc813"
      },
      "source": [
        "#And what does that look like?\n",
        "\n",
        "precip_rides.plot(kind = 'bar')\n",
        "\n",
        "plt.ylabel('Rides taken')"
      ],
      "execution_count": 157,
      "outputs": [
        {
          "output_type": "execute_result",
          "data": {
            "text/plain": [
              "Text(0, 0.5, 'Rides taken')"
            ]
          },
          "metadata": {
            "tags": []
          },
          "execution_count": 157
        },
        {
          "output_type": "display_data",
          "data": {
            "image/png": "[encoded data removed]",
            "text/plain": [
              "<Figure size 432x288 with 1 Axes>"
            ]
          },
          "metadata": {
            "tags": []
          }
        }
      ]
    },
    {
      "cell_type": "code",
      "metadata": {
        "id": "lxSCZTUwq5zc",
        "colab_type": "code",
        "colab": {
          "base_uri": "https://localhost:8080/",
          "height": 346
        },
        "outputId": "88ee5afc-25ba-4137-9998-271de291c423"
      },
      "source": [
        "#But again, what does this mean as a trend?\n",
        "\n",
        "precip_rides['% female'] = (precip_rides['female'] / (precip_rides['female']+precip_rides['male']))\n",
        "\n",
        "precip_rides['% female'].plot(kind = 'bar')\n",
        "\n",
        "plt.ylabel('% rides taken by a female')"
      ],
      "execution_count": 158,
      "outputs": [
        {
          "output_type": "execute_result",
          "data": {
            "text/plain": [
              "Text(0, 0.5, '% rides taken by a female')"
            ]
          },
          "metadata": {
            "tags": []
          },
          "execution_count": 158
        },
        {
          "output_type": "display_data",
          "data": {
            "image/png": "[encoded data removed]",
            "text/plain": [
              "<Figure size 432x288 with 1 Axes>"
            ]
          },
          "metadata": {
            "tags": []
          }
        }
      ]
    },
    {
      "cell_type": "markdown",
      "metadata": {
        "id": "ydOSONRMrEWn",
        "colab_type": "text"
      },
      "source": [
        "This is kind of cool! It seems like the proportion holds regardless of the amount of precipitation. So while women appear to be more averse than men to colder weather, they are actually impacted equally by precipitation. Who knew!\n",
        "\n",
        "Let's do the same analysis for birth decade!"
      ]
    },
    {
      "cell_type": "code",
      "metadata": {
        "id": "C7MkPCozUA5e",
        "colab_type": "code",
        "colab": {
          "base_uri": "https://localhost:8080/",
          "height": 233
        },
        "outputId": "336ba259-fba6-4c9e-c964-15f64043c8c7"
      },
      "source": [
        "#we've got way more columns here, so perhaps we should convert these to percents?\n",
        "#Seems like the only way to do this is to create a new df and loop through our columns, applying a calculation to \n",
        "#overwrite each value with a row-ratio compared to the total\n",
        "\n",
        "age_rides = pd.crosstab(ride_weather['Wetness'], ride_weather['Decade'])\n",
        "\n",
        "age_rides"
      ],
      "execution_count": 159,
      "outputs": [
        {
          "output_type": "execute_result",
          "data": {
            "text/html": [
              "<div>\n",
              "<style scoped>\n",
              "    .dataframe tbody tr th:only-of-type {\n",
              "        vertical-align: middle;\n",
              "    }\n",
              "\n",
              "    .dataframe tbody tr th {\n",
              "        vertical-align: top;\n",
              "    }\n",
              "\n",
              "    .dataframe thead th {\n",
              "        text-align: right;\n",
              "    }\n",
              "</style>\n",
              "<table border=\"1\" class=\"dataframe\">\n",
              "  <thead>\n",
              "    <tr style=\"text-align: right;\">\n",
              "      <th>Decade</th>\n",
              "      <th>1930</th>\n",
              "      <th>1940</th>\n",
              "      <th>1950</th>\n",
              "      <th>1960</th>\n",
              "      <th>1970</th>\n",
              "      <th>1980</th>\n",
              "      <th>1990</th>\n",
              "      <th>2000</th>\n",
              "    </tr>\n",
              "    <tr>\n",
              "      <th>Wetness</th>\n",
              "      <th></th>\n",
              "      <th></th>\n",
              "      <th></th>\n",
              "      <th></th>\n",
              "      <th></th>\n",
              "      <th></th>\n",
              "      <th></th>\n",
              "      <th></th>\n",
              "    </tr>\n",
              "  </thead>\n",
              "  <tbody>\n",
              "    <tr>\n",
              "      <th>0_Dry</th>\n",
              "      <td>191</td>\n",
              "      <td>5456</td>\n",
              "      <td>35590</td>\n",
              "      <td>86513</td>\n",
              "      <td>120183</td>\n",
              "      <td>211863</td>\n",
              "      <td>130696</td>\n",
              "      <td>2386</td>\n",
              "    </tr>\n",
              "    <tr>\n",
              "      <th>1_Drizzle</th>\n",
              "      <td>106</td>\n",
              "      <td>2614</td>\n",
              "      <td>16829</td>\n",
              "      <td>40477</td>\n",
              "      <td>56028</td>\n",
              "      <td>97904</td>\n",
              "      <td>60715</td>\n",
              "      <td>1050</td>\n",
              "    </tr>\n",
              "    <tr>\n",
              "      <th>2_Rain</th>\n",
              "      <td>18</td>\n",
              "      <td>476</td>\n",
              "      <td>3041</td>\n",
              "      <td>7425</td>\n",
              "      <td>10437</td>\n",
              "      <td>19646</td>\n",
              "      <td>12987</td>\n",
              "      <td>252</td>\n",
              "    </tr>\n",
              "    <tr>\n",
              "      <th>3_Pouring</th>\n",
              "      <td>16</td>\n",
              "      <td>230</td>\n",
              "      <td>1449</td>\n",
              "      <td>3541</td>\n",
              "      <td>4826</td>\n",
              "      <td>9431</td>\n",
              "      <td>6225</td>\n",
              "      <td>98</td>\n",
              "    </tr>\n",
              "    <tr>\n",
              "      <th>4_Monsoon</th>\n",
              "      <td>1</td>\n",
              "      <td>18</td>\n",
              "      <td>164</td>\n",
              "      <td>377</td>\n",
              "      <td>546</td>\n",
              "      <td>880</td>\n",
              "      <td>517</td>\n",
              "      <td>10</td>\n",
              "    </tr>\n",
              "  </tbody>\n",
              "</table>\n",
              "</div>"
            ],
            "text/plain": [
              "Decade     1930  1940   1950   1960    1970    1980    1990  2000\n",
              "Wetness                                                          \n",
              "0_Dry       191  5456  35590  86513  120183  211863  130696  2386\n",
              "1_Drizzle   106  2614  16829  40477   56028   97904   60715  1050\n",
              "2_Rain       18   476   3041   7425   10437   19646   12987   252\n",
              "3_Pouring    16   230   1449   3541    4826    9431    6225    98\n",
              "4_Monsoon     1    18    164    377     546     880     517    10"
            ]
          },
          "metadata": {
            "tags": []
          },
          "execution_count": 159
        }
      ]
    },
    {
      "cell_type": "code",
      "metadata": {
        "id": "ZyXvGHpAKbRB",
        "colab_type": "code",
        "colab": {
          "base_uri": "https://localhost:8080/",
          "height": 346
        },
        "outputId": "d9da846c-2754-48b7-9a2d-05234b8b7b59"
      },
      "source": [
        "#What's this look like in aggregate?\n",
        "\n",
        "age_rides.plot(kind = 'bar')\n",
        "\n",
        "plt.ylabel('total rides')"
      ],
      "execution_count": 160,
      "outputs": [
        {
          "output_type": "execute_result",
          "data": {
            "text/plain": [
              "Text(0, 0.5, 'total rides')"
            ]
          },
          "metadata": {
            "tags": []
          },
          "execution_count": 160
        },
        {
          "output_type": "display_data",
          "data": {
            "image/png": "[encoded data removed]",
            "text/plain": [
              "<Figure size 432x288 with 1 Axes>"
            ]
          },
          "metadata": {
            "tags": []
          }
        }
      ]
    },
    {
      "cell_type": "code",
      "metadata": {
        "id": "_IH-aBUGKLcj",
        "colab_type": "code",
        "colab": {
          "base_uri": "https://localhost:8080/",
          "height": 233
        },
        "outputId": "fbc54282-1450-4d65-fec8-3332c33a7f59"
      },
      "source": [
        "#We need to do a bit more work to get this to where it needs to be. Let's just get the totals in there to start.\n",
        "\n",
        "age_rides_ratios = age_rides.copy() \n",
        "\n",
        "age_rides['totals'] = age_rides.sum(axis=1)\n",
        "\n",
        "age_rides\n",
        "  "
      ],
      "execution_count": 161,
      "outputs": [
        {
          "output_type": "execute_result",
          "data": {
            "text/html": [
              "<div>\n",
              "<style scoped>\n",
              "    .dataframe tbody tr th:only-of-type {\n",
              "        vertical-align: middle;\n",
              "    }\n",
              "\n",
              "    .dataframe tbody tr th {\n",
              "        vertical-align: top;\n",
              "    }\n",
              "\n",
              "    .dataframe thead th {\n",
              "        text-align: right;\n",
              "    }\n",
              "</style>\n",
              "<table border=\"1\" class=\"dataframe\">\n",
              "  <thead>\n",
              "    <tr style=\"text-align: right;\">\n",
              "      <th>Decade</th>\n",
              "      <th>1930</th>\n",
              "      <th>1940</th>\n",
              "      <th>1950</th>\n",
              "      <th>1960</th>\n",
              "      <th>1970</th>\n",
              "      <th>1980</th>\n",
              "      <th>1990</th>\n",
              "      <th>2000</th>\n",
              "      <th>totals</th>\n",
              "    </tr>\n",
              "    <tr>\n",
              "      <th>Wetness</th>\n",
              "      <th></th>\n",
              "      <th></th>\n",
              "      <th></th>\n",
              "      <th></th>\n",
              "      <th></th>\n",
              "      <th></th>\n",
              "      <th></th>\n",
              "      <th></th>\n",
              "      <th></th>\n",
              "    </tr>\n",
              "  </thead>\n",
              "  <tbody>\n",
              "    <tr>\n",
              "      <th>0_Dry</th>\n",
              "      <td>191</td>\n",
              "      <td>5456</td>\n",
              "      <td>35590</td>\n",
              "      <td>86513</td>\n",
              "      <td>120183</td>\n",
              "      <td>211863</td>\n",
              "      <td>130696</td>\n",
              "      <td>2386</td>\n",
              "      <td>592878</td>\n",
              "    </tr>\n",
              "    <tr>\n",
              "      <th>1_Drizzle</th>\n",
              "      <td>106</td>\n",
              "      <td>2614</td>\n",
              "      <td>16829</td>\n",
              "      <td>40477</td>\n",
              "      <td>56028</td>\n",
              "      <td>97904</td>\n",
              "      <td>60715</td>\n",
              "      <td>1050</td>\n",
              "      <td>275723</td>\n",
              "    </tr>\n",
              "    <tr>\n",
              "      <th>2_Rain</th>\n",
              "      <td>18</td>\n",
              "      <td>476</td>\n",
              "      <td>3041</td>\n",
              "      <td>7425</td>\n",
              "      <td>10437</td>\n",
              "      <td>19646</td>\n",
              "      <td>12987</td>\n",
              "      <td>252</td>\n",
              "      <td>54282</td>\n",
              "    </tr>\n",
              "    <tr>\n",
              "      <th>3_Pouring</th>\n",
              "      <td>16</td>\n",
              "      <td>230</td>\n",
              "      <td>1449</td>\n",
              "      <td>3541</td>\n",
              "      <td>4826</td>\n",
              "      <td>9431</td>\n",
              "      <td>6225</td>\n",
              "      <td>98</td>\n",
              "      <td>25816</td>\n",
              "    </tr>\n",
              "    <tr>\n",
              "      <th>4_Monsoon</th>\n",
              "      <td>1</td>\n",
              "      <td>18</td>\n",
              "      <td>164</td>\n",
              "      <td>377</td>\n",
              "      <td>546</td>\n",
              "      <td>880</td>\n",
              "      <td>517</td>\n",
              "      <td>10</td>\n",
              "      <td>2513</td>\n",
              "    </tr>\n",
              "  </tbody>\n",
              "</table>\n",
              "</div>"
            ],
            "text/plain": [
              "Decade     1930  1940   1950   1960    1970    1980    1990  2000  totals\n",
              "Wetness                                                                  \n",
              "0_Dry       191  5456  35590  86513  120183  211863  130696  2386  592878\n",
              "1_Drizzle   106  2614  16829  40477   56028   97904   60715  1050  275723\n",
              "2_Rain       18   476   3041   7425   10437   19646   12987   252   54282\n",
              "3_Pouring    16   230   1449   3541    4826    9431    6225    98   25816\n",
              "4_Monsoon     1    18    164    377     546     880     517    10    2513"
            ]
          },
          "metadata": {
            "tags": []
          },
          "execution_count": 161
        }
      ]
    },
    {
      "cell_type": "code",
      "metadata": {
        "id": "u8J9ueILLf2v",
        "colab_type": "code",
        "colab": {
          "base_uri": "https://localhost:8080/",
          "height": 641
        },
        "outputId": "be11fdc1-660e-4646-e2e1-c9c2b204553e"
      },
      "source": [
        "#Now it gets funky. We'll need to loop through the above dataframe, and convert each column's valuies to percentages by row.\n",
        "\n",
        "for i in age_rides_ratios.columns:\n",
        "  age_rides_ratios[i] = (age_rides_ratios[i] / age_rides_ratios['totals'])*100\n",
        "  \n",
        "  \n",
        "display(age_rides)\n",
        "display(age_rides_ratios)"
      ],
      "execution_count": 162,
      "outputs": [
        {
          "output_type": "error",
          "ename": "KeyError",
          "evalue": "ignored",
          "traceback": [
            "\u001b[0;31m---------------------------------------------------------------------------\u001b[0m",
            "\u001b[0;31mKeyError\u001b[0m                                  Traceback (most recent call last)",
            "\u001b[0;32m/usr/local/lib/python3.6/dist-packages/pandas/core/indexes/base.py\u001b[0m in \u001b[0;36mget_loc\u001b[0;34m(self, key, method, tolerance)\u001b[0m\n\u001b[1;32m   2656\u001b[0m             \u001b[0;32mtry\u001b[0m\u001b[0;34m:\u001b[0m\u001b[0;34m\u001b[0m\u001b[0;34m\u001b[0m\u001b[0m\n\u001b[0;32m-> 2657\u001b[0;31m                 \u001b[0;32mreturn\u001b[0m \u001b[0mself\u001b[0m\u001b[0;34m.\u001b[0m\u001b[0m_engine\u001b[0m\u001b[0;34m.\u001b[0m\u001b[0mget_loc\u001b[0m\u001b[0;34m(\u001b[0m\u001b[0mkey\u001b[0m\u001b[0;34m)\u001b[0m\u001b[0;34m\u001b[0m\u001b[0;34m\u001b[0m\u001b[0m\n\u001b[0m\u001b[1;32m   2658\u001b[0m             \u001b[0;32mexcept\u001b[0m \u001b[0mKeyError\u001b[0m\u001b[0;34m:\u001b[0m\u001b[0;34m\u001b[0m\u001b[0;34m\u001b[0m\u001b[0m\n",
            "\u001b[0;32mpandas/_libs/index.pyx\u001b[0m in \u001b[0;36mpandas._libs.index.IndexEngine.get_loc\u001b[0;34m()\u001b[0m\n",
            "\u001b[0;32mpandas/_libs/index.pyx\u001b[0m in \u001b[0;36mpandas._libs.index.IndexEngine.get_loc\u001b[0;34m()\u001b[0m\n",
            "\u001b[0;32mpandas/_libs/index_class_helper.pxi\u001b[0m in \u001b[0;36mpandas._libs.index.Int64Engine._check_type\u001b[0;34m()\u001b[0m\n",
            "\u001b[0;31mKeyError\u001b[0m: 'totals'",
            "\nDuring handling of the above exception, another exception occurred:\n",
            "\u001b[0;31mKeyError\u001b[0m                                  Traceback (most recent call last)",
            "\u001b[0;32m<ipython-input-162-58af8cf02c72>\u001b[0m in \u001b[0;36m<module>\u001b[0;34m()\u001b[0m\n\u001b[1;32m      1\u001b[0m \u001b[0;34m\u001b[0m\u001b[0m\n\u001b[1;32m      2\u001b[0m \u001b[0;32mfor\u001b[0m \u001b[0mi\u001b[0m \u001b[0;32min\u001b[0m \u001b[0mage_rides_ratios\u001b[0m\u001b[0;34m.\u001b[0m\u001b[0mcolumns\u001b[0m\u001b[0;34m:\u001b[0m\u001b[0;34m\u001b[0m\u001b[0;34m\u001b[0m\u001b[0m\n\u001b[0;32m----> 3\u001b[0;31m   \u001b[0mage_rides_ratios\u001b[0m\u001b[0;34m[\u001b[0m\u001b[0mi\u001b[0m\u001b[0;34m]\u001b[0m \u001b[0;34m=\u001b[0m \u001b[0;34m(\u001b[0m\u001b[0mage_rides_ratios\u001b[0m\u001b[0;34m[\u001b[0m\u001b[0mi\u001b[0m\u001b[0;34m]\u001b[0m \u001b[0;34m/\u001b[0m \u001b[0mage_rides_ratios\u001b[0m\u001b[0;34m[\u001b[0m\u001b[0;34m'totals'\u001b[0m\u001b[0;34m]\u001b[0m\u001b[0;34m)\u001b[0m\u001b[0;34m*\u001b[0m\u001b[0;36m100\u001b[0m\u001b[0;34m\u001b[0m\u001b[0;34m\u001b[0m\u001b[0m\n\u001b[0m\u001b[1;32m      4\u001b[0m \u001b[0;34m\u001b[0m\u001b[0m\n\u001b[1;32m      5\u001b[0m \u001b[0;34m\u001b[0m\u001b[0m\n",
            "\u001b[0;32m/usr/local/lib/python3.6/dist-packages/pandas/core/frame.py\u001b[0m in \u001b[0;36m__getitem__\u001b[0;34m(self, key)\u001b[0m\n\u001b[1;32m   2925\u001b[0m             \u001b[0;32mif\u001b[0m \u001b[0mself\u001b[0m\u001b[0;34m.\u001b[0m\u001b[0mcolumns\u001b[0m\u001b[0;34m.\u001b[0m\u001b[0mnlevels\u001b[0m \u001b[0;34m>\u001b[0m \u001b[0;36m1\u001b[0m\u001b[0;34m:\u001b[0m\u001b[0;34m\u001b[0m\u001b[0;34m\u001b[0m\u001b[0m\n\u001b[1;32m   2926\u001b[0m                 \u001b[0;32mreturn\u001b[0m \u001b[0mself\u001b[0m\u001b[0;34m.\u001b[0m\u001b[0m_getitem_multilevel\u001b[0m\u001b[0;34m(\u001b[0m\u001b[0mkey\u001b[0m\u001b[0;34m)\u001b[0m\u001b[0;34m\u001b[0m\u001b[0;34m\u001b[0m\u001b[0m\n\u001b[0;32m-> 2927\u001b[0;31m             \u001b[0mindexer\u001b[0m \u001b[0;34m=\u001b[0m \u001b[0mself\u001b[0m\u001b[0;34m.\u001b[0m\u001b[0mcolumns\u001b[0m\u001b[0;34m.\u001b[0m\u001b[0mget_loc\u001b[0m\u001b[0;34m(\u001b[0m\u001b[0mkey\u001b[0m\u001b[0;34m)\u001b[0m\u001b[0;34m\u001b[0m\u001b[0;34m\u001b[0m\u001b[0m\n\u001b[0m\u001b[1;32m   2928\u001b[0m             \u001b[0;32mif\u001b[0m \u001b[0mis_integer\u001b[0m\u001b[0;34m(\u001b[0m\u001b[0mindexer\u001b[0m\u001b[0;34m)\u001b[0m\u001b[0;34m:\u001b[0m\u001b[0;34m\u001b[0m\u001b[0;34m\u001b[0m\u001b[0m\n\u001b[1;32m   2929\u001b[0m                 \u001b[0mindexer\u001b[0m \u001b[0;34m=\u001b[0m \u001b[0;34m[\u001b[0m\u001b[0mindexer\u001b[0m\u001b[0;34m]\u001b[0m\u001b[0;34m\u001b[0m\u001b[0;34m\u001b[0m\u001b[0m\n",
            "\u001b[0;32m/usr/local/lib/python3.6/dist-packages/pandas/core/indexes/base.py\u001b[0m in \u001b[0;36mget_loc\u001b[0;34m(self, key, method, tolerance)\u001b[0m\n\u001b[1;32m   2657\u001b[0m                 \u001b[0;32mreturn\u001b[0m \u001b[0mself\u001b[0m\u001b[0;34m.\u001b[0m\u001b[0m_engine\u001b[0m\u001b[0;34m.\u001b[0m\u001b[0mget_loc\u001b[0m\u001b[0;34m(\u001b[0m\u001b[0mkey\u001b[0m\u001b[0;34m)\u001b[0m\u001b[0;34m\u001b[0m\u001b[0;34m\u001b[0m\u001b[0m\n\u001b[1;32m   2658\u001b[0m             \u001b[0;32mexcept\u001b[0m \u001b[0mKeyError\u001b[0m\u001b[0;34m:\u001b[0m\u001b[0;34m\u001b[0m\u001b[0;34m\u001b[0m\u001b[0m\n\u001b[0;32m-> 2659\u001b[0;31m                 \u001b[0;32mreturn\u001b[0m \u001b[0mself\u001b[0m\u001b[0;34m.\u001b[0m\u001b[0m_engine\u001b[0m\u001b[0;34m.\u001b[0m\u001b[0mget_loc\u001b[0m\u001b[0;34m(\u001b[0m\u001b[0mself\u001b[0m\u001b[0;34m.\u001b[0m\u001b[0m_maybe_cast_indexer\u001b[0m\u001b[0;34m(\u001b[0m\u001b[0mkey\u001b[0m\u001b[0;34m)\u001b[0m\u001b[0;34m)\u001b[0m\u001b[0;34m\u001b[0m\u001b[0;34m\u001b[0m\u001b[0m\n\u001b[0m\u001b[1;32m   2660\u001b[0m         \u001b[0mindexer\u001b[0m \u001b[0;34m=\u001b[0m \u001b[0mself\u001b[0m\u001b[0;34m.\u001b[0m\u001b[0mget_indexer\u001b[0m\u001b[0;34m(\u001b[0m\u001b[0;34m[\u001b[0m\u001b[0mkey\u001b[0m\u001b[0;34m]\u001b[0m\u001b[0;34m,\u001b[0m \u001b[0mmethod\u001b[0m\u001b[0;34m=\u001b[0m\u001b[0mmethod\u001b[0m\u001b[0;34m,\u001b[0m \u001b[0mtolerance\u001b[0m\u001b[0;34m=\u001b[0m\u001b[0mtolerance\u001b[0m\u001b[0;34m)\u001b[0m\u001b[0;34m\u001b[0m\u001b[0;34m\u001b[0m\u001b[0m\n\u001b[1;32m   2661\u001b[0m         \u001b[0;32mif\u001b[0m \u001b[0mindexer\u001b[0m\u001b[0;34m.\u001b[0m\u001b[0mndim\u001b[0m \u001b[0;34m>\u001b[0m \u001b[0;36m1\u001b[0m \u001b[0;32mor\u001b[0m \u001b[0mindexer\u001b[0m\u001b[0;34m.\u001b[0m\u001b[0msize\u001b[0m \u001b[0;34m>\u001b[0m \u001b[0;36m1\u001b[0m\u001b[0;34m:\u001b[0m\u001b[0;34m\u001b[0m\u001b[0;34m\u001b[0m\u001b[0m\n",
            "\u001b[0;32mpandas/_libs/index.pyx\u001b[0m in \u001b[0;36mpandas._libs.index.IndexEngine.get_loc\u001b[0;34m()\u001b[0m\n",
            "\u001b[0;32mpandas/_libs/index.pyx\u001b[0m in \u001b[0;36mpandas._libs.index.IndexEngine.get_loc\u001b[0;34m()\u001b[0m\n",
            "\u001b[0;32mpandas/_libs/index_class_helper.pxi\u001b[0m in \u001b[0;36mpandas._libs.index.Int64Engine._check_type\u001b[0;34m()\u001b[0m\n",
            "\u001b[0;31mKeyError\u001b[0m: 'totals'"
          ]
        }
      ]
    },
    {
      "cell_type": "code",
      "metadata": {
        "id": "z24Ul5Xe0ECt",
        "colab_type": "code",
        "colab": {}
      },
      "source": [
        "#Great! Now let's ~~~visualize~~~\n",
        "\n",
        "age_rides_ratios = age_rides_ratios.drop(['totals'], axis = 1)\n",
        "\n",
        "age_rides_ratios.plot(kind = 'bar')#, legend = None)"
      ],
      "execution_count": 0,
      "outputs": []
    },
    {
      "cell_type": "code",
      "metadata": {
        "id": "E7DDXlZBTSZB",
        "colab_type": "code",
        "colab": {}
      },
      "source": [
        "#That's kinda fun - seems like baby boomers tend to prefew colder weather, and are more averse to warm and hot days,\n",
        "#while Millenials and Gen Z folks mind the cold more, but can withstand the heat! \n",
        "\n",
        "#Let's see who hates rain the most!\n",
        "#Again, we need to recreate a copy of the df, add a totals column, then loop through and replace values in each column\n",
        "#with ratios rather than totals.\n",
        "\n",
        "#wetness_rides['totals'] = wetness_rides.sum(axis=1)\n",
        "\n",
        "wetness_rides = pd.crosstab(ride_weather['Wetness'], ride_weather['Decade'])\n",
        "\n",
        "wetness_rides"
      ],
      "execution_count": 0,
      "outputs": []
    },
    {
      "cell_type": "code",
      "metadata": {
        "id": "jQsa5_lNMLtA",
        "colab_type": "code",
        "colab": {}
      },
      "source": [
        "wetness_rides['totals'] = wetness_rides.sum(axis=1)\n",
        "\n",
        "wetness_rides"
      ],
      "execution_count": 0,
      "outputs": []
    },
    {
      "cell_type": "code",
      "metadata": {
        "id": "14W14ihGMAjx",
        "colab_type": "code",
        "colab": {}
      },
      "source": [
        "wetness_rides_ratios = wetness_rides.copy() \n",
        "\n",
        "for i in wetness_rides_ratios.columns:\n",
        "   wetness_rides_ratios[i] = (wetness_rides_ratios[i] / wetness_rides_ratios['totals'])*100\n",
        "    \n",
        "display(wetness_rides)\n",
        "display(wetness_rides_ratios)\n",
        "  "
      ],
      "execution_count": 0,
      "outputs": []
    },
    {
      "cell_type": "code",
      "metadata": {
        "id": "L2bXLKAc_Djz",
        "colab_type": "code",
        "colab": {}
      },
      "source": [
        "#Great! Now let's ~~~visualize~~~ one last time\n",
        "\n",
        "wetness_rides_ratios = wetness_rides_ratios.drop(['totals'], axis = 1)\n",
        "\n",
        "wetness_rides_ratios.plot(kind = 'bar')#, legend = None)"
      ],
      "execution_count": 0,
      "outputs": []
    },
    {
      "cell_type": "markdown",
      "metadata": {
        "id": "0uoqG_QrM3k6",
        "colab_type": "text"
      },
      "source": [
        "SUMMARY\n",
        "\n",
        "\n",
        "Clearly there is a lot here and many more ways to cut this - in particular I would like to dive deeper into the durations, and also consider wind speed. All that said, I think there were some interesting findings:\n",
        "\n",
        "1. Citibike does not clear outliers from it's data, and should probably consider improving data validation for birth year. \n",
        "2. in 2018, Far more Citibike rides were attributed to males than to females\n",
        "3. The sweet spot for Citibike riders is soundly with folks born in the 1980s. (29-39 year olds)\n",
        "3. Women are more tolerant of warm weather than men, but less tolerant of cold weather\n",
        "4. Manipulating dataframes is cool, but really hard!\n",
        "\n",
        "Thanks :)\n"
      ]
    }
  ]
}